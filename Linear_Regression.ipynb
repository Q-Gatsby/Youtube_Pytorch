{
 "cells": [
  {
   "cell_type": "code",
   "execution_count": 3,
   "outputs": [],
   "source": [
    "import torch\n",
    "from torch import nn\n",
    "import numpy as np\n",
    "from sklearn import datasets\n",
    "import matplotlib.pyplot as plt"
   ],
   "metadata": {
    "collapsed": false,
    "pycharm": {
     "name": "#%%\n"
    }
   }
  },
  {
   "cell_type": "markdown",
   "source": [
    "# Tensor和numpy类型数据互换"
   ],
   "metadata": {
    "collapsed": false,
    "pycharm": {
     "name": "#%% md\n"
    }
   }
  },
  {
   "cell_type": "markdown",
   "source": [
    "## Tensor变Numpy\n",
    "利用from_numpy()函数"
   ],
   "metadata": {
    "collapsed": false,
    "pycharm": {
     "name": "#%% md\n"
    }
   }
  },
  {
   "cell_type": "code",
   "execution_count": 54,
   "outputs": [
    {
     "name": "stdout",
     "output_type": "stream",
     "text": [
      "<class 'numpy.ndarray'>\n",
      "<class 'torch.Tensor'>\n"
     ]
    }
   ],
   "source": [
    "import torch\n",
    "import numpy as np\n",
    "a=np.arange(10).reshape(2,5)\n",
    "b=torch.from_numpy(a)\n",
    "print(type(a))\n",
    "print(type(b))"
   ],
   "metadata": {
    "collapsed": false,
    "pycharm": {
     "name": "#%%\n"
    }
   }
  },
  {
   "cell_type": "markdown",
   "source": [
    "## Numpy转换为Tensor\n",
    "利用.numpy()函数"
   ],
   "metadata": {
    "collapsed": false,
    "pycharm": {
     "name": "#%% md\n"
    }
   }
  },
  {
   "cell_type": "code",
   "execution_count": 55,
   "outputs": [
    {
     "name": "stdout",
     "output_type": "stream",
     "text": [
      "<class 'torch.Tensor'>\n",
      "<class 'numpy.ndarray'>\n"
     ]
    }
   ],
   "source": [
    "import torch\n",
    "import numpy as np\n",
    "a=torch.arange(10).view(2,5)\n",
    "b=a.numpy()\n",
    "print(type(a))\n",
    "print(type(b))"
   ],
   "metadata": {
    "collapsed": false,
    "pycharm": {
     "name": "#%%\n"
    }
   }
  },
  {
   "cell_type": "code",
   "execution_count": 37,
   "outputs": [],
   "source": [
    "X, y = datasets.make_regression(n_samples=100, n_features=1, noise=20, random_state=1)\n",
    "X = torch.from_numpy(X.astype(np.float32))\n",
    "y = torch.from_numpy(y.astype(np.float32))\n",
    "y = y.reshape(y.shape[0],1)    # 注意这里要对y进行reshape，要不然就是1维的100向量。\n",
    "n_samples, n_features = X.shape"
   ],
   "metadata": {
    "collapsed": false,
    "pycharm": {
     "name": "#%%\n"
    }
   }
  },
  {
   "cell_type": "code",
   "execution_count": 5,
   "outputs": [
    {
     "data": {
      "text/plain": "1"
     },
     "execution_count": 5,
     "metadata": {},
     "output_type": "execute_result"
    }
   ],
   "source": [
    "n_features"
   ],
   "metadata": {
    "collapsed": false,
    "pycharm": {
     "name": "#%%\n"
    }
   }
  },
  {
   "cell_type": "code",
   "execution_count": 6,
   "outputs": [
    {
     "data": {
      "text/plain": "100"
     },
     "execution_count": 6,
     "metadata": {},
     "output_type": "execute_result"
    }
   ],
   "source": [
    "n_samples"
   ],
   "metadata": {
    "collapsed": false,
    "pycharm": {
     "name": "#%%\n"
    }
   }
  },
  {
   "cell_type": "code",
   "execution_count": 7,
   "outputs": [],
   "source": [
    "# model\n",
    "input_size = n_features\n",
    "output_size = 1\n",
    "model = nn.Linear(in_features=input_size, out_features=output_size)"
   ],
   "metadata": {
    "collapsed": false,
    "pycharm": {
     "name": "#%%\n"
    }
   }
  },
  {
   "cell_type": "code",
   "execution_count": 41,
   "outputs": [],
   "source": [
    "# loss and optimizer\n",
    "learning_rate = 1e-3\n",
    "loss_fn = nn.MSELoss()\n",
    "optimizer = torch.optim.SGD(params=model.parameters(), lr=learning_rate)"
   ],
   "metadata": {
    "collapsed": false,
    "pycharm": {
     "name": "#%%\n"
    }
   }
  },
  {
   "cell_type": "code",
   "execution_count": 49,
   "outputs": [
    {
     "name": "stdout",
     "output_type": "stream",
     "text": [
      "---第10次训练的Loss为1663.4315185546875---\n",
      "---第20次训练的Loss为1621.9814453125---\n",
      "---第30次训练的Loss为1581.831298828125---\n",
      "---第40次训练的Loss为1542.9393310546875---\n",
      "---第50次训练的Loss为1505.266357421875---\n",
      "---第60次训练的Loss为1468.7740478515625---\n",
      "---第70次训练的Loss为1433.424072265625---\n",
      "---第80次训练的Loss为1399.1815185546875---\n",
      "---第90次训练的Loss为1366.0107421875---\n",
      "---第100次训练的Loss为1333.878173828125---\n"
     ]
    }
   ],
   "source": [
    "# epoch and train\n",
    "epoch = 100\n",
    "for i in range(epoch):\n",
    "    output = model(X)\n",
    "    loss = loss_fn(output, y)\n",
    "\n",
    "    optimizer.zero_grad()\n",
    "    loss.backward()\n",
    "    optimizer.step()\n",
    "\n",
    "    if (i+1) % 10 == 0:\n",
    "        print(f'---第{i+1}次训练的Loss为{loss.item()}---')\n"
   ],
   "metadata": {
    "collapsed": false,
    "pycharm": {
     "name": "#%%\n"
    }
   }
  },
  {
   "cell_type": "code",
   "execution_count": 56,
   "outputs": [
    {
     "name": "stdout",
     "output_type": "stream",
     "text": [
      "tensor([[ -23.8980],\n",
      "        [  -6.9274],\n",
      "        [  27.6281],\n",
      "        [  40.4358],\n",
      "        [  75.9240],\n",
      "        [  22.4320],\n",
      "        [  28.7713],\n",
      "        [ -26.6839],\n",
      "        [ -60.6475],\n",
      "        [  19.5319],\n",
      "        [ -25.0799],\n",
      "        [ -13.8294],\n",
      "        [ -46.7915],\n",
      "        [  46.9379],\n",
      "        [ -46.7574],\n",
      "        [  43.5249],\n",
      "        [   1.2116],\n",
      "        [ -11.7452],\n",
      "        [ -26.6566],\n",
      "        [ -45.4966],\n",
      "        [  -9.5889],\n",
      "        [ 107.1015],\n",
      "        [  45.2779],\n",
      "        [  14.0371],\n",
      "        [ -13.2347],\n",
      "        [ -27.2684],\n",
      "        [   7.1300],\n",
      "        [  32.0440],\n",
      "        [  63.4227],\n",
      "        [ -30.5779],\n",
      "        [ -11.6091],\n",
      "        [ -36.8171],\n",
      "        [  13.4874],\n",
      "        [  45.7818],\n",
      "        [  44.0404],\n",
      "        [ -18.8736],\n",
      "        [ -11.3521],\n",
      "        [  84.0086],\n",
      "        [-103.0308],\n",
      "        [  48.3543],\n",
      "        [ 103.1060],\n",
      "        [  73.2214],\n",
      "        [ -34.8305],\n",
      "        [ -36.3596],\n",
      "        [ -10.3482],\n",
      "        [  46.2020],\n",
      "        [  12.2452],\n",
      "        [  57.7451],\n",
      "        [ -12.8240],\n",
      "        [  28.2826],\n",
      "        [  -5.0319],\n",
      "        [  10.3777],\n",
      "        [  32.2223],\n",
      "        [  19.6913],\n",
      "        [ -27.6399],\n",
      "        [  37.4396],\n",
      "        [  60.8962],\n",
      "        [  -4.6509],\n",
      "        [  29.5873],\n",
      "        [  39.5007],\n",
      "        [  23.9535],\n",
      "        [  10.3239],\n",
      "        [ -30.8968],\n",
      "        [  24.5830],\n",
      "        [  18.8077],\n",
      "        [ -48.7536],\n",
      "        [  13.4216],\n",
      "        [ -39.0716],\n",
      "        [ -24.2841],\n",
      "        [ -47.5732],\n",
      "        [ -62.8774],\n",
      "        [  -5.6610],\n",
      "        [  80.8190],\n",
      "        [  33.6544],\n",
      "        [ -27.4297],\n",
      "        [   8.3725],\n",
      "        [   4.1576],\n",
      "        [ -25.1612],\n",
      "        [  57.8453],\n",
      "        [  86.4605],\n",
      "        [  46.9723],\n",
      "        [ -91.7261],\n",
      "        [  15.7284],\n",
      "        [  -3.3242],\n",
      "        [  10.4556],\n",
      "        [  58.3583],\n",
      "        [  -1.0043],\n",
      "        [ -30.2389],\n",
      "        [  18.1248],\n",
      "        [ -89.9494],\n",
      "        [  15.5260],\n",
      "        [  -7.7946],\n",
      "        [ -19.9837],\n",
      "        [  57.6446],\n",
      "        [  13.6913],\n",
      "        [  -9.2091],\n",
      "        [  82.4795],\n",
      "        [   6.7923],\n",
      "        [   6.7275],\n",
      "        [  -4.2330]], grad_fn=<AddmmBackward0>)\n",
      "tensor([[ -23.8980],\n",
      "        [  -6.9274],\n",
      "        [  27.6281],\n",
      "        [  40.4358],\n",
      "        [  75.9240],\n",
      "        [  22.4320],\n",
      "        [  28.7713],\n",
      "        [ -26.6839],\n",
      "        [ -60.6475],\n",
      "        [  19.5319],\n",
      "        [ -25.0799],\n",
      "        [ -13.8294],\n",
      "        [ -46.7915],\n",
      "        [  46.9379],\n",
      "        [ -46.7574],\n",
      "        [  43.5249],\n",
      "        [   1.2116],\n",
      "        [ -11.7452],\n",
      "        [ -26.6566],\n",
      "        [ -45.4966],\n",
      "        [  -9.5889],\n",
      "        [ 107.1015],\n",
      "        [  45.2779],\n",
      "        [  14.0371],\n",
      "        [ -13.2347],\n",
      "        [ -27.2684],\n",
      "        [   7.1300],\n",
      "        [  32.0440],\n",
      "        [  63.4227],\n",
      "        [ -30.5779],\n",
      "        [ -11.6091],\n",
      "        [ -36.8171],\n",
      "        [  13.4874],\n",
      "        [  45.7818],\n",
      "        [  44.0404],\n",
      "        [ -18.8736],\n",
      "        [ -11.3521],\n",
      "        [  84.0086],\n",
      "        [-103.0308],\n",
      "        [  48.3543],\n",
      "        [ 103.1060],\n",
      "        [  73.2214],\n",
      "        [ -34.8305],\n",
      "        [ -36.3596],\n",
      "        [ -10.3482],\n",
      "        [  46.2020],\n",
      "        [  12.2452],\n",
      "        [  57.7451],\n",
      "        [ -12.8240],\n",
      "        [  28.2826],\n",
      "        [  -5.0319],\n",
      "        [  10.3777],\n",
      "        [  32.2223],\n",
      "        [  19.6913],\n",
      "        [ -27.6399],\n",
      "        [  37.4396],\n",
      "        [  60.8962],\n",
      "        [  -4.6509],\n",
      "        [  29.5873],\n",
      "        [  39.5007],\n",
      "        [  23.9535],\n",
      "        [  10.3239],\n",
      "        [ -30.8968],\n",
      "        [  24.5830],\n",
      "        [  18.8077],\n",
      "        [ -48.7536],\n",
      "        [  13.4216],\n",
      "        [ -39.0716],\n",
      "        [ -24.2841],\n",
      "        [ -47.5732],\n",
      "        [ -62.8774],\n",
      "        [  -5.6610],\n",
      "        [  80.8190],\n",
      "        [  33.6544],\n",
      "        [ -27.4297],\n",
      "        [   8.3725],\n",
      "        [   4.1576],\n",
      "        [ -25.1612],\n",
      "        [  57.8453],\n",
      "        [  86.4605],\n",
      "        [  46.9723],\n",
      "        [ -91.7261],\n",
      "        [  15.7284],\n",
      "        [  -3.3242],\n",
      "        [  10.4556],\n",
      "        [  58.3583],\n",
      "        [  -1.0043],\n",
      "        [ -30.2389],\n",
      "        [  18.1248],\n",
      "        [ -89.9494],\n",
      "        [  15.5260],\n",
      "        [  -7.7946],\n",
      "        [ -19.9837],\n",
      "        [  57.6446],\n",
      "        [  13.6913],\n",
      "        [  -9.2091],\n",
      "        [  82.4795],\n",
      "        [   6.7923],\n",
      "        [   6.7275],\n",
      "        [  -4.2330]])\n",
      "[[ -23.897984 ]\n",
      " [  -6.9273853]\n",
      " [  27.62806  ]\n",
      " [  40.435783 ]\n",
      " [  75.92395  ]\n",
      " [  22.432049 ]\n",
      " [  28.771263 ]\n",
      " [ -26.683895 ]\n",
      " [ -60.647484 ]\n",
      " [  19.53191  ]\n",
      " [ -25.079945 ]\n",
      " [ -13.829362 ]\n",
      " [ -46.79151  ]\n",
      " [  46.93791  ]\n",
      " [ -46.757423 ]\n",
      " [  43.524864 ]\n",
      " [   1.2116361]\n",
      " [ -11.745248 ]\n",
      " [ -26.656555 ]\n",
      " [ -45.49663  ]\n",
      " [  -9.588914 ]\n",
      " [ 107.10154  ]\n",
      " [  45.27786  ]\n",
      " [  14.037082 ]\n",
      " [ -13.234658 ]\n",
      " [ -27.268421 ]\n",
      " [   7.130008 ]\n",
      " [  32.04401  ]\n",
      " [  63.4227   ]\n",
      " [ -30.577911 ]\n",
      " [ -11.609107 ]\n",
      " [ -36.817142 ]\n",
      " [  13.487374 ]\n",
      " [  45.78181  ]\n",
      " [  44.040405 ]\n",
      " [ -18.87355  ]\n",
      " [ -11.352054 ]\n",
      " [  84.008606 ]\n",
      " [-103.03078  ]\n",
      " [  48.35434  ]\n",
      " [ 103.10598  ]\n",
      " [  73.221436 ]\n",
      " [ -34.830452 ]\n",
      " [ -36.359585 ]\n",
      " [ -10.34818  ]\n",
      " [  46.201984 ]\n",
      " [  12.245235 ]\n",
      " [  57.745068 ]\n",
      " [ -12.823985 ]\n",
      " [  28.282566 ]\n",
      " [  -5.0318804]\n",
      " [  10.377737 ]\n",
      " [  32.222336 ]\n",
      " [  19.691328 ]\n",
      " [ -27.63992  ]\n",
      " [  37.43963  ]\n",
      " [  60.8962   ]\n",
      " [  -4.6508617]\n",
      " [  29.587307 ]\n",
      " [  39.500725 ]\n",
      " [  23.95346  ]\n",
      " [  10.323868 ]\n",
      " [ -30.896778 ]\n",
      " [  24.582985 ]\n",
      " [  18.807701 ]\n",
      " [ -48.753647 ]\n",
      " [  13.421579 ]\n",
      " [ -39.07157  ]\n",
      " [ -24.284073 ]\n",
      " [ -47.573166 ]\n",
      " [ -62.877426 ]\n",
      " [  -5.6609926]\n",
      " [  80.819046 ]\n",
      " [  33.6544   ]\n",
      " [ -27.429745 ]\n",
      " [   8.37252  ]\n",
      " [   4.157587 ]\n",
      " [ -25.161182 ]\n",
      " [  57.845284 ]\n",
      " [  86.4605   ]\n",
      " [  46.972317 ]\n",
      " [ -91.72607  ]\n",
      " [  15.728399 ]\n",
      " [  -3.32417  ]\n",
      " [  10.455584 ]\n",
      " [  58.358273 ]\n",
      " [  -1.0042977]\n",
      " [ -30.238876 ]\n",
      " [  18.124775 ]\n",
      " [ -89.949356 ]\n",
      " [  15.526048 ]\n",
      " [  -7.794571 ]\n",
      " [ -19.9837   ]\n",
      " [  57.644596 ]\n",
      " [  13.691277 ]\n",
      " [  -9.209066 ]\n",
      " [  82.47949  ]\n",
      " [   6.7923203]\n",
      " [   6.727549 ]\n",
      " [  -4.233019 ]]\n"
     ]
    },
    {
     "data": {
      "text/plain": "<Figure size 432x288 with 1 Axes>",
      "image/png": "[encoded data removed]"
     },
     "metadata": {
      "needs_background": "light"
     },
     "output_type": "display_data"
    }
   ],
   "source": [
    "# Plot\n",
    "predicted1 = model(X)\n",
    "predicted2 = model(X).detach()\n",
    "predicted3 = model(X).detach().numpy()\n",
    "print(predicted1)   # 带grad的Tensor类型\n",
    "print(predicted2)   # 不带grad的Tensor类型\n",
    "print(predicted3)   # numpy类型\n",
    "plt.plot(X, y, 'ro')\n",
    "plt.plot(X, predicted3, 'b')\n",
    "plt.show()"
   ],
   "metadata": {
    "collapsed": false,
    "pycharm": {
     "name": "#%%\n"
    }
   }
  }
 ],
 "metadata": {
  "kernelspec": {
   "display_name": "Python 3",
   "language": "python",
   "name": "python3"
  },
  "language_info": {
   "codemirror_mode": {
    "name": "ipython",
    "version": 2
   },
   "file_extension": ".py",
   "mimetype": "text/x-python",
   "name": "python",
   "nbconvert_exporter": "python",
   "pygments_lexer": "ipython2",
   "version": "2.7.6"
  }
 },
 "nbformat": 4,
 "nbformat_minor": 0
}