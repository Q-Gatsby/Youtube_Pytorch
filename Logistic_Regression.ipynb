{
 "cells": [
  {
   "cell_type": "code",
   "execution_count": 1,
   "outputs": [],
   "source": [
    "import torch\n",
    "from torch import nn\n",
    "import numpy as np\n",
    "from sklearn import datasets\n",
    "from sklearn.preprocessing import StandardScaler\n",
    "from sklearn.model_selection import train_test_split"
   ],
   "metadata": {
    "collapsed": false,
    "pycharm": {
     "name": "#%%\n"
    }
   }
  },
  {
   "cell_type": "code",
   "execution_count": 5,
   "outputs": [
    {
     "data": {
      "text/plain": "['DESCR',\n 'data',\n 'data_module',\n 'feature_names',\n 'filename',\n 'frame',\n 'target',\n 'target_names']"
     },
     "execution_count": 5,
     "metadata": {},
     "output_type": "execute_result"
    }
   ],
   "source": [
    "# prepare data\n",
    "datasets = datasets.load_breast_cancer()\n",
    "dir(datasets)"
   ],
   "metadata": {
    "collapsed": false,
    "pycharm": {
     "name": "#%%\n"
    }
   }
  },
  {
   "cell_type": "code",
   "execution_count": 33,
   "outputs": [],
   "source": [
    "X, y = datasets.data, datasets.target\n",
    "samples, features = X.shape\n",
    "X_train, X_test, y_train, y_test = train_test_split(X, y, test_size=0.2, random_state=1234)\n",
    "# random_state不填的时候，每次都是随机的，当填入确定的random_state的时候，每一次的训练和测试集是一致的"
   ],
   "metadata": {
    "collapsed": false,
    "pycharm": {
     "name": "#%%\n"
    }
   }
  },
  {
   "cell_type": "code",
   "execution_count": 35,
   "outputs": [],
   "source": [
    "# print(X_train)\n",
    "# print(X_test)"
   ],
   "metadata": {
    "collapsed": false,
    "pycharm": {
     "name": "#%%\n"
    }
   }
  },
  {
   "cell_type": "code",
   "execution_count": 37,
   "outputs": [],
   "source": [
    "scalar = StandardScaler()\n",
    "X_train = scalar.fit_transform(X_train)\n",
    "X_test = scalar.transform(X_test)\n",
    "\n",
    "X_train = torch.from_numpy(X_train.astype(np.float32))\n",
    "X_test = torch.from_numpy(X_test.astype(np.float32))\n",
    "y_train = torch.from_numpy(y_train.astype(np.float32))\n",
    "y_test = torch.from_numpy(y_test.astype(np.float32))\n",
    "\n",
    "y_train = y_train.reshape(y_train.shape[0], 1)\n",
    "y_test = y_test.reshape(y_test.shape[0], 1)"
   ],
   "metadata": {
    "collapsed": false,
    "pycharm": {
     "name": "#%%\n"
    }
   }
  },
  {
   "cell_type": "code",
   "execution_count": 40,
   "outputs": [],
   "source": [
    "# Model\n",
    "class Logistic(nn.Module):\n",
    "    def __init__(self, input_features):\n",
    "        super(Logistic, self).__init__()\n",
    "        self.model = nn.Sequential(\n",
    "            nn.Linear(in_features=input_features, out_features=1),\n",
    "            # 这里的out_features是1，是因为逻辑回归给的是一个二分类问题，想要的是一个判断的概率\n",
    "            nn.Sigmoid()\n",
    "        )\n",
    "\n",
    "    def forward(self, x):\n",
    "        output = self.model(x)\n",
    "        return output\n",
    "\n",
    "model = Logistic(features)"
   ],
   "metadata": {
    "collapsed": false,
    "pycharm": {
     "name": "#%%\n"
    }
   }
  },
  {
   "cell_type": "code",
   "execution_count": 43,
   "outputs": [],
   "source": [
    "# Loss and Optimizer\n",
    "loss_fn = nn.BCELoss()\n",
    "learning_rate = 1e-2\n",
    "optimizer = torch.optim.SGD(params=model.parameters(), lr=learning_rate)"
   ],
   "metadata": {
    "collapsed": false,
    "pycharm": {
     "name": "#%%\n"
    }
   }
  },
  {
   "cell_type": "code",
   "execution_count": 45,
   "outputs": [
    {
     "name": "stdout",
     "output_type": "stream",
     "text": [
      "---第10次训练的Loss是0.24787487089633942!---\n",
      "---第20次训练的Loss是0.23767127096652985!---\n",
      "---第30次训练的Loss是0.2286403924226761!---\n",
      "---第40次训练的Loss是0.22057881951332092!---\n",
      "---第50次训练的Loss是0.21332913637161255!---\n",
      "---第60次训练的Loss是0.20676735043525696!---\n",
      "---第70次训练的Loss是0.20079419016838074!---\n",
      "---第80次训练的Loss是0.1953292191028595!---\n",
      "---第90次训练的Loss是0.1903064101934433!---\n",
      "---第100次训练的Loss是0.18567104637622833!---\n"
     ]
    }
   ],
   "source": [
    "# train\n",
    "epoch = 100\n",
    "for i in range(epoch):\n",
    "    output = model(X_train)\n",
    "    loss = loss_fn(output, y_train)\n",
    "\n",
    "    optimizer.zero_grad()\n",
    "    loss.backward()\n",
    "    optimizer.step()\n",
    "\n",
    "    if (i+1) % 10 == 0:\n",
    "        print(f'---第{i+1}次训练的Loss是{loss}!---')"
   ],
   "metadata": {
    "collapsed": false,
    "pycharm": {
     "name": "#%%\n"
    }
   }
  },
  {
   "cell_type": "code",
   "execution_count": 51,
   "outputs": [
    {
     "name": "stdout",
     "output_type": "stream",
     "text": [
      "Accuracy:0.90351\n"
     ]
    }
   ],
   "source": [
    "# Test\n",
    "model.eval()\n",
    "with torch.no_grad():      # 如果缺少这一行，出来的结果将是带有grad_fn的\n",
    "    y_predicted = model(X_test)\n",
    "    y_predicted_round = y_predicted.round()\n",
    "    acc = (y_predicted_round == y_test).sum() / len(y_test)\n",
    "    print(f'Accuracy:{acc.item():.5f}')"
   ],
   "metadata": {
    "collapsed": false,
    "pycharm": {
     "name": "#%%\n"
    }
   }
  }
 ],
 "metadata": {
  "kernelspec": {
   "display_name": "Python 3",
   "language": "python",
   "name": "python3"
  },
  "language_info": {
   "codemirror_mode": {
    "name": "ipython",
    "version": 2
   },
   "file_extension": ".py",
   "mimetype": "text/x-python",
   "name": "python",
   "nbconvert_exporter": "python",
   "pygments_lexer": "ipython2",
   "version": "2.7.6"
  }
 },
 "nbformat": 4,
 "nbformat_minor": 0
}