{
 "cells": [
  {
   "cell_type": "code",
   "execution_count": 1,
   "outputs": [],
   "source": [
    "import torch"
   ],
   "metadata": {
    "collapsed": false,
    "pycharm": {
     "name": "#%%\n"
    }
   }
  },
  {
   "cell_type": "markdown",
   "source": [
    "# 初始化一个Tensor"
   ],
   "metadata": {
    "collapsed": false,
    "pycharm": {
     "name": "#%% md\n"
    }
   }
  },
  {
   "cell_type": "code",
   "execution_count": 2,
   "outputs": [
    {
     "data": {
      "text/plain": "tensor([0.])"
     },
     "execution_count": 2,
     "metadata": {},
     "output_type": "execute_result"
    }
   ],
   "source": [
    "torch.empty(1)"
   ],
   "metadata": {
    "collapsed": false,
    "pycharm": {
     "name": "#%%\n"
    }
   }
  },
  {
   "cell_type": "code",
   "execution_count": 3,
   "outputs": [
    {
     "data": {
      "text/plain": "tensor([ 8.4078e-45,  0.0000e+00, -2.7147e+00])"
     },
     "execution_count": 3,
     "metadata": {},
     "output_type": "execute_result"
    }
   ],
   "source": [
    "torch.empty(3)"
   ],
   "metadata": {
    "collapsed": false,
    "pycharm": {
     "name": "#%%\n"
    }
   }
  },
  {
   "cell_type": "code",
   "execution_count": 4,
   "outputs": [
    {
     "data": {
      "text/plain": "tensor([[ 0.0000e+00, -1.5846e+29,  2.3715e-11],\n        [-2.5250e-29,  8.4078e-45,  0.0000e+00]])"
     },
     "execution_count": 4,
     "metadata": {},
     "output_type": "execute_result"
    }
   ],
   "source": [
    "torch.empty(2,3)"
   ],
   "metadata": {
    "collapsed": false,
    "pycharm": {
     "name": "#%%\n"
    }
   }
  },
  {
   "cell_type": "code",
   "execution_count": 5,
   "outputs": [
    {
     "data": {
      "text/plain": "tensor([[0., 0., 0.],\n        [0., 0., 0.]])"
     },
     "execution_count": 5,
     "metadata": {},
     "output_type": "execute_result"
    }
   ],
   "source": [
    "torch.zeros(2,3)"
   ],
   "metadata": {
    "collapsed": false,
    "pycharm": {
     "name": "#%%\n"
    }
   }
  },
  {
   "cell_type": "code",
   "execution_count": 6,
   "outputs": [
    {
     "data": {
      "text/plain": "tensor([[[1., 1., 1.],\n         [1., 1., 1.],\n         [1., 1., 1.]],\n\n        [[1., 1., 1.],\n         [1., 1., 1.],\n         [1., 1., 1.]]])"
     },
     "execution_count": 6,
     "metadata": {},
     "output_type": "execute_result"
    }
   ],
   "source": [
    "torch.ones(2,3,3)"
   ],
   "metadata": {
    "collapsed": false,
    "pycharm": {
     "name": "#%%\n"
    }
   }
  },
  {
   "cell_type": "markdown",
   "source": [
    "# 改变Tensor的属性"
   ],
   "metadata": {
    "collapsed": false,
    "pycharm": {
     "name": "#%% md\n"
    }
   }
  },
  {
   "cell_type": "code",
   "execution_count": 8,
   "outputs": [
    {
     "data": {
      "text/plain": "'torch.FloatTensor'"
     },
     "execution_count": 8,
     "metadata": {},
     "output_type": "execute_result"
    }
   ],
   "source": [
    "tensor1 = torch.ones(2, 3)\n",
    "tensor1.type()"
   ],
   "metadata": {
    "collapsed": false,
    "pycharm": {
     "name": "#%%\n"
    }
   }
  },
  {
   "cell_type": "code",
   "execution_count": 10,
   "outputs": [
    {
     "data": {
      "text/plain": "'torch.FloatTensor'"
     },
     "execution_count": 10,
     "metadata": {},
     "output_type": "execute_result"
    }
   ],
   "source": [
    "tensor1 = torch.ones(2, 3, dtype=torch.float32)\n",
    "tensor1.type()"
   ],
   "metadata": {
    "collapsed": false,
    "pycharm": {
     "name": "#%%\n"
    }
   }
  },
  {
   "cell_type": "code",
   "execution_count": 11,
   "outputs": [
    {
     "data": {
      "text/plain": "'torch.DoubleTensor'"
     },
     "execution_count": 11,
     "metadata": {},
     "output_type": "execute_result"
    }
   ],
   "source": [
    "tensor1 = torch.ones(2, 3, dtype=torch.float64)\n",
    "tensor1.type()"
   ],
   "metadata": {
    "collapsed": false,
    "pycharm": {
     "name": "#%%\n"
    }
   }
  },
  {
   "cell_type": "code",
   "execution_count": 12,
   "outputs": [
    {
     "data": {
      "text/plain": "torch.Size([2, 3])"
     },
     "execution_count": 12,
     "metadata": {},
     "output_type": "execute_result"
    }
   ],
   "source": [
    "tensor1.size()"
   ],
   "metadata": {
    "collapsed": false,
    "pycharm": {
     "name": "#%%\n"
    }
   }
  },
  {
   "cell_type": "markdown",
   "source": [
    "# Tensor加减乘除法"
   ],
   "metadata": {
    "collapsed": false,
    "pycharm": {
     "name": "#%% md\n"
    }
   }
  },
  {
   "cell_type": "code",
   "execution_count": 13,
   "outputs": [
    {
     "name": "stdout",
     "output_type": "stream",
     "text": [
      "tensor([[0.8985, 0.3175],\n",
      "        [0.0958, 0.2810]])\n",
      "tensor([[0.1718, 0.1470],\n",
      "        [0.6138, 0.8397]])\n",
      "x+y = tensor([[1.0703, 0.4645],\n",
      "        [0.7096, 1.1207]])\n",
      "x+y = tensor([[1.0703, 0.4645],\n",
      "        [0.7096, 1.1207]])\n"
     ]
    }
   ],
   "source": [
    "x = torch.rand(2,2)\n",
    "y = torch.rand(2,2)\n",
    "print(x)\n",
    "print(y)\n",
    "print(f'x+y = {x+y}')\n",
    "print(f'x+y = {torch.add(x, y)}')\n",
    "# y.add_(x) 这行代码等价于y = y-x"
   ],
   "metadata": {
    "collapsed": false,
    "pycharm": {
     "name": "#%%\n"
    }
   }
  },
  {
   "cell_type": "code",
   "execution_count": 14,
   "outputs": [
    {
     "name": "stdout",
     "output_type": "stream",
     "text": [
      "x-y = tensor([[ 0.7268,  0.1705],\n",
      "        [-0.5181, -0.5586]])\n",
      "x-y = tensor([[ 0.7268,  0.1705],\n",
      "        [-0.5181, -0.5586]])\n"
     ]
    }
   ],
   "source": [
    "print(f'x-y = {x-y}')\n",
    "print(f'x-y = {torch.sub(x, y)}')\n",
    "# y.sub_(x) 这行代码等价于y = y-x"
   ],
   "metadata": {
    "collapsed": false,
    "pycharm": {
     "name": "#%%\n"
    }
   }
  },
  {
   "cell_type": "code",
   "execution_count": 15,
   "outputs": [
    {
     "name": "stdout",
     "output_type": "stream",
     "text": [
      "x*y = tensor([[0.1543, 0.0467],\n",
      "        [0.0588, 0.2360]])\n",
      "x*y = tensor([[0.1543, 0.0467],\n",
      "        [0.0588, 0.2360]])\n"
     ]
    }
   ],
   "source": [
    "print(f'x*y = {x*y}')\n",
    "print(f'x*y = {torch.mul(x, y)}')\n",
    "# y.mul_(x) 这行代码等价于y = y-x"
   ],
   "metadata": {
    "collapsed": false,
    "pycharm": {
     "name": "#%%\n"
    }
   }
  },
  {
   "cell_type": "code",
   "execution_count": 16,
   "outputs": [
    {
     "name": "stdout",
     "output_type": "stream",
     "text": [
      "x/y = tensor([[5.2312, 2.1593],\n",
      "        [0.1560, 0.3347]])\n",
      "x/y = tensor([[5.2312, 2.1593],\n",
      "        [0.1560, 0.3347]])\n"
     ]
    }
   ],
   "source": [
    "print(f'x/y = {x/y}')\n",
    "print(f'x/y = {torch.div(x, y)}')\n",
    "# y.div_(x) 这行代码等价于y = y/x"
   ],
   "metadata": {
    "collapsed": false,
    "pycharm": {
     "name": "#%%\n"
    }
   }
  },
  {
   "cell_type": "markdown",
   "source": [
    "# Tensor的切片 (用法和方式与numpy一致)"
   ],
   "metadata": {
    "collapsed": false,
    "pycharm": {
     "name": "#%% md\n"
    }
   }
  },
  {
   "cell_type": "code",
   "execution_count": 20,
   "outputs": [
    {
     "name": "stdout",
     "output_type": "stream",
     "text": [
      "tensor([[0.0951, 0.7759, 0.4182],\n",
      "        [0.4525, 0.1449, 0.5564],\n",
      "        [0.6265, 0.5619, 0.9139],\n",
      "        [0.9351, 0.1972, 0.2434],\n",
      "        [0.9775, 0.8527, 0.9411]])\n",
      "tensor([0.9351, 0.1972, 0.2434])\n",
      "tensor([[0.5619]])\n"
     ]
    }
   ],
   "source": [
    "x = torch.rand(5,3)\n",
    "print(x)\n",
    "print(x[3,:])\n",
    "print(x[2:3,1:2])"
   ],
   "metadata": {
    "collapsed": false,
    "pycharm": {
     "name": "#%%\n"
    }
   }
  },
  {
   "cell_type": "markdown",
   "source": [
    "# Tensor Reshape"
   ],
   "metadata": {
    "collapsed": false,
    "pycharm": {
     "name": "#%% md\n"
    }
   }
  },
  {
   "cell_type": "code",
   "execution_count": 21,
   "outputs": [
    {
     "name": "stdout",
     "output_type": "stream",
     "text": [
      "tensor([[0.9649, 0.1717, 0.0428, 0.1783, 0.0404],\n",
      "        [0.3371, 0.1543, 0.6023, 0.6847, 0.1689],\n",
      "        [0.2616, 0.9281, 0.3148, 0.4253, 0.3364],\n",
      "        [0.0457, 0.8371, 0.0050, 0.2101, 0.0773]])\n",
      "tensor([[0.9649, 0.1717, 0.0428, 0.1783, 0.0404, 0.3371, 0.1543, 0.6023, 0.6847,\n",
      "         0.1689],\n",
      "        [0.2616, 0.9281, 0.3148, 0.4253, 0.3364, 0.0457, 0.8371, 0.0050, 0.2101,\n",
      "         0.0773]])\n"
     ]
    }
   ],
   "source": [
    "x = torch.rand(5, 4)\n",
    "print(x.reshape(4, 5))\n",
    "print(x.view(2,10))"
   ],
   "metadata": {
    "collapsed": false,
    "pycharm": {
     "name": "#%%\n"
    }
   }
  },
  {
   "cell_type": "markdown",
   "source": [
    "# Tensor和Numpy转换"
   ],
   "metadata": {
    "collapsed": false,
    "pycharm": {
     "name": "#%% md\n"
    }
   }
  },
  {
   "cell_type": "code",
   "execution_count": 25,
   "outputs": [
    {
     "name": "stdout",
     "output_type": "stream",
     "text": [
      "tensor([1., 1., 1., 1., 1.])\n",
      "[1. 1. 1. 1. 1.]\n"
     ]
    }
   ],
   "source": [
    "x = torch.ones(5)\n",
    "print(x)\n",
    "y = x.numpy()\n",
    "print(y)"
   ],
   "metadata": {
    "collapsed": false,
    "pycharm": {
     "name": "#%%\n"
    }
   }
  },
  {
   "cell_type": "code",
   "execution_count": 16,
   "outputs": [],
   "source": [
    "# 注意事项： 如果你在GPU上面创建了一个Tensor数据类型，将Tensor转化为Numpy格式的话，是会报错的，因为Numpy只能在CPU上面进行转化。"
   ],
   "metadata": {
    "collapsed": false,
    "pycharm": {
     "name": "#%%\n"
    }
   }
  },
  {
   "cell_type": "markdown",
   "source": [
    "# 关于创建Tensor 优化模型的重要事项"
   ],
   "metadata": {
    "collapsed": false,
    "pycharm": {
     "name": "#%% md\n"
    }
   }
  },
  {
   "cell_type": "code",
   "execution_count": 16,
   "outputs": [],
   "source": [
    "x = torch.ones(5, requires_grad=True)\n",
    "# 很多时候，我们看到一个Tensor标注了requires_grad=True的意思就是\n",
    "# 告诉Pytorch这个变量之后还会在模型的优化计算中用到，所以需要设置"
   ],
   "metadata": {
    "collapsed": false,
    "pycharm": {
     "name": "#%%\n"
    }
   }
  }
 ],
 "metadata": {
  "kernelspec": {
   "display_name": "Python 3",
   "language": "python",
   "name": "python3"
  },
  "language_info": {
   "codemirror_mode": {
    "name": "ipython",
    "version": 2
   },
   "file_extension": ".py",
   "mimetype": "text/x-python",
   "name": "python",
   "nbconvert_exporter": "python",
   "pygments_lexer": "ipython2",
   "version": "2.7.6"
  }
 },
 "nbformat": 4,
 "nbformat_minor": 0
}